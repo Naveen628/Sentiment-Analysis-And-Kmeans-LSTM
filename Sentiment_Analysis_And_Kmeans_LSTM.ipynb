{
  "nbformat": 4,
  "nbformat_minor": 0,
  "metadata": {
    "colab": {
      "provenance": []
    },
    "kernelspec": {
      "name": "python3",
      "display_name": "Python 3"
    },
    "language_info": {
      "name": "python"
    }
  },
  "cells": [
    {
      "cell_type": "markdown",
      "source": [
        "Importing & Installing Libraries"
      ],
      "metadata": {
        "id": "aJP0C2qrqGNx"
      }
    },
    {
      "cell_type": "code",
      "source": [
        "!pip3 install nltk\n",
        "import nltk\n",
        "nltk.download('stopwords')"
      ],
      "metadata": {
        "colab": {
          "base_uri": "https://localhost:8080/"
        },
        "id": "tBwurgMlq0KI",
        "outputId": "45e40e77-9f02-4282-8431-f48c676ecf8c"
      },
      "execution_count": 2,
      "outputs": [
        {
          "output_type": "stream",
          "name": "stdout",
          "text": [
            "Looking in indexes: https://pypi.org/simple, https://us-python.pkg.dev/colab-wheels/public/simple/\n",
            "Requirement already satisfied: nltk in /usr/local/lib/python3.8/dist-packages (3.7)\n",
            "Requirement already satisfied: joblib in /usr/local/lib/python3.8/dist-packages (from nltk) (1.2.0)\n",
            "Requirement already satisfied: tqdm in /usr/local/lib/python3.8/dist-packages (from nltk) (4.64.1)\n",
            "Requirement already satisfied: click in /usr/local/lib/python3.8/dist-packages (from nltk) (7.1.2)\n",
            "Requirement already satisfied: regex>=2021.8.3 in /usr/local/lib/python3.8/dist-packages (from nltk) (2022.6.2)\n"
          ]
        },
        {
          "output_type": "stream",
          "name": "stderr",
          "text": [
            "[nltk_data] Downloading package stopwords to /root/nltk_data...\n",
            "[nltk_data]   Unzipping corpora/stopwords.zip.\n"
          ]
        },
        {
          "output_type": "execute_result",
          "data": {
            "text/plain": [
              "True"
            ]
          },
          "metadata": {},
          "execution_count": 2
        }
      ]
    },
    {
      "cell_type": "code",
      "source": [
        "%matplotlib inline\n",
        "import re\n",
        "import sqlite3\n",
        "import pandas as pd\n",
        "import numpy as np\n",
        "import nltk\n",
        "import tqdm as tqdm\n",
        "import string\n",
        "from nltk.corpus import stopwords\n",
        "stop = stopwords.words(\"english\")\n",
        "import matplotlib.pyplot as plt\n",
        "import numpy as np\n",
        "import datetime as dt\n",
        "from sklearn.feature_extraction.text import TfidfTransformer\n",
        "from sklearn.feature_extraction.text import CountVectorizer\n",
        "#from sklearn.cross_validation import train_test_split\n",
        "from sklearn.model_selection import train_test_split\n",
        "from sklearn.metrics import confusion_matrix\n",
        "from sklearn import metrics\n",
        "from sklearn.metrics import roc_curve, auc\n",
        "from nltk.stem.porter import PorterStemmer\n",
        "english_stemmer=nltk.stem.SnowballStemmer('english')\n",
        "import nltk\n",
        "nltk.download('vader_lexicon')\n",
        "\n",
        "from gensim import summarization\n",
        "from nltk.tokenize import word_tokenize\n",
        "from sklearn.feature_extraction.text import TfidfVectorizer\n",
        "#from sklearn.cross_validation import train_test_split\n",
        "from sklearn.metrics import accuracy_score\n",
        "from sklearn.metrics import confusion_matrix\n",
        "from math import floor,ceil\n",
        "\n",
        "from sklearn.svm import LinearSVC\n",
        "\n",
        "from keras.models import Sequential\n",
        "from keras.layers import LSTM, Dense, Embedding\n",
        "import seaborn as sns"
      ],
      "metadata": {
        "colab": {
          "base_uri": "https://localhost:8080/"
        },
        "id": "fzvcw-a7q8nG",
        "outputId": "adeac670-c838-4f66-836c-8279d9b970e3"
      },
      "execution_count": 3,
      "outputs": [
        {
          "output_type": "stream",
          "name": "stderr",
          "text": [
            "[nltk_data] Downloading package vader_lexicon to /root/nltk_data...\n"
          ]
        }
      ]
    },
    {
      "cell_type": "markdown",
      "source": [
        "Reading the file"
      ],
      "metadata": {
        "id": "jcx2rDYtqT6J"
      }
    },
    {
      "cell_type": "code",
      "source": [
        "data = pd.read_csv('/content/SA - Reviews.csv',nrows=20000,encoding='utf8')"
      ],
      "metadata": {
        "id": "BVM6Pta-pO1q"
      },
      "execution_count": 6,
      "outputs": []
    },
    {
      "cell_type": "code",
      "source": [
        "data.columns"
      ],
      "metadata": {
        "colab": {
          "base_uri": "https://localhost:8080/"
        },
        "id": "3eu8srUMpO5I",
        "outputId": "e95da355-f97a-4ab0-865d-9aa5dac0e93a"
      },
      "execution_count": 8,
      "outputs": [
        {
          "output_type": "execute_result",
          "data": {
            "text/plain": [
              "Index(['Id', 'ProductId', 'UserId', 'ProfileName', 'HelpfulnessNumerator',\n",
              "       'HelpfulnessDenominator', 'Score', 'Time', 'Summary', 'Text'],\n",
              "      dtype='object')"
            ]
          },
          "metadata": {},
          "execution_count": 8
        }
      ]
    },
    {
      "cell_type": "code",
      "source": [
        "data=data.drop(['UserId','Id','ProfileName','Time'],axis=1)"
      ],
      "metadata": {
        "id": "MMaycpTMpO94"
      },
      "execution_count": 7,
      "outputs": []
    },
    {
      "cell_type": "markdown",
      "source": [
        "Overall Score"
      ],
      "metadata": {
        "id": "EcBprte9qXlw"
      }
    },
    {
      "cell_type": "code",
      "source": [
        "sns.countplot(data['Score'])"
      ],
      "metadata": {
        "colab": {
          "base_uri": "https://localhost:8080/",
          "height": 351
        },
        "id": "XsOnIYpTprbC",
        "outputId": "68c5d86c-db37-4761-e199-b03a9294cb65"
      },
      "execution_count": 8,
      "outputs": [
        {
          "output_type": "stream",
          "name": "stderr",
          "text": [
            "/usr/local/lib/python3.8/dist-packages/seaborn/_decorators.py:36: FutureWarning: Pass the following variable as a keyword arg: x. From version 0.12, the only valid positional argument will be `data`, and passing other arguments without an explicit keyword will result in an error or misinterpretation.\n",
            "  warnings.warn(\n"
          ]
        },
        {
          "output_type": "execute_result",
          "data": {
            "text/plain": [
              "<matplotlib.axes._subplots.AxesSubplot at 0x7fbc410c3f40>"
            ]
          },
          "metadata": {},
          "execution_count": 8
        },
        {
          "output_type": "display_data",
          "data": {
            "text/plain": [
              "<Figure size 432x288 with 1 Axes>"
            ],
            "image/png": "[encoded data removed]"
          },
          "metadata": {
            "needs_background": "light"
          }
        }
      ]
    },
    {
      "cell_type": "markdown",
      "source": [
        "Data Preprocessing"
      ],
      "metadata": {
        "id": "aNteN5PcqaxS"
      }
    },
    {
      "cell_type": "code",
      "source": [
        "def cleaning( review, remove_stopwords=True):\n",
        "   \n",
        "    \n",
        "\n",
        "    review_text = re.sub(\"[^a-zA-Z]\",\" \", review)\n",
        "   \n",
        "    words = review_text.lower().split()\n",
        "    \n",
        "    if remove_stopwords:\n",
        "        stops = set(stopwords.words(\"english\"))\n",
        "        words = [w for w in words if not w in stops]\n",
        "\n",
        "    b=[]\n",
        "    stemmer = english_stemmer \n",
        "    for word in words:\n",
        "        b.append(stemmer.stem(word))\n",
        "\n",
        "    \n",
        "    return(b)"
      ],
      "metadata": {
        "id": "yAW9AAQZprfr"
      },
      "execution_count": 9,
      "outputs": []
    },
    {
      "cell_type": "markdown",
      "source": [
        "Test"
      ],
      "metadata": {
        "id": "0E2qPRV4qeDk"
      }
    },
    {
      "cell_type": "code",
      "source": [
        "Test = \"###$$$$$$$999$$$$*&^^saello the if area\"\n",
        "cleaning(Test)"
      ],
      "metadata": {
        "colab": {
          "base_uri": "https://localhost:8080/"
        },
        "id": "qKBjH8bxprq-",
        "outputId": "71565399-c3e7-4405-a95e-ee21447b85d5"
      },
      "execution_count": 10,
      "outputs": [
        {
          "output_type": "execute_result",
          "data": {
            "text/plain": [
              "['saello', 'area']"
            ]
          },
          "metadata": {},
          "execution_count": 10
        }
      ]
    },
    {
      "cell_type": "markdown",
      "source": [
        "Cleaning the Data"
      ],
      "metadata": {
        "id": "Y_eJ7doMqjK3"
      }
    },
    {
      "cell_type": "code",
      "source": [
        "clean_Text = []\n",
        "for review in data['Text']:\n",
        "    clean_Text.append( \" \".join(cleaning(review)))\n",
        "    \n",
        "clean_summary = []\n",
        "for review in data['Summary']:\n",
        "    clean_summary.append( \" \".join(cleaning(review)))"
      ],
      "metadata": {
        "id": "VQAOCaN9pPBl"
      },
      "execution_count": 11,
      "outputs": []
    },
    {
      "cell_type": "markdown",
      "source": [
        "Top Word Count In Text(Review)"
      ],
      "metadata": {
        "id": "Apy1vVvdqqk2"
      }
    },
    {
      "cell_type": "code",
      "source": [
        "Top_Words_Review =pd.Series(' '.join(clean_Text).lower().split()).value_counts()[:10]\n",
        "print (\"Top Count Words Used In Review\", Top_Words_Review)"
      ],
      "metadata": {
        "colab": {
          "base_uri": "https://localhost:8080/"
        },
        "id": "6IrBziUypPEs",
        "outputId": "39799c62-687d-4c8a-9f1a-e6f8e2f3fe3c"
      },
      "execution_count": 12,
      "outputs": [
        {
          "output_type": "stream",
          "name": "stdout",
          "text": [
            "Top Count Words Used In Review br         9085\n",
            "like       3965\n",
            "tast       3723\n",
            "flavor     3217\n",
            "good       2964\n",
            "product    2926\n",
            "use        2589\n",
            "one        2519\n",
            "love       2460\n",
            "great      2452\n",
            "dtype: int64\n"
          ]
        }
      ]
    },
    {
      "cell_type": "markdown",
      "source": [
        "Top Word Count In Summary"
      ],
      "metadata": {
        "id": "K7RPT3xOqsnp"
      }
    },
    {
      "cell_type": "code",
      "source": [
        "Top_Words_Summary = pd.Series(' '.join(clean_summary).lower().split()).value_counts()[:10]\n",
        "print (\"Top Count Words Used In Summary\",Top_Words_Summary)"
      ],
      "metadata": {
        "colab": {
          "base_uri": "https://localhost:8080/"
        },
        "id": "YR-nZ-6CrR84",
        "outputId": "6ed28e5d-9b4b-43f0-8c05-c36ef2a53079"
      },
      "execution_count": 13,
      "outputs": [
        {
          "output_type": "stream",
          "name": "stdout",
          "text": [
            "Top Count Words Used In Summary great      1136\n",
            "good        808\n",
            "best        527\n",
            "love        483\n",
            "tast        463\n",
            "product     311\n",
            "delici      264\n",
            "flavor      244\n",
            "tea         243\n",
            "coffe       243\n",
            "dtype: int64\n"
          ]
        }
      ]
    },
    {
      "cell_type": "markdown",
      "source": [
        "Term Frequency Inverse Document Frequency of reviews"
      ],
      "metadata": {
        "id": "G2I0lxGjqwa8"
      }
    },
    {
      "cell_type": "code",
      "source": [
        "from sklearn.feature_extraction.text import TfidfVectorizer\n",
        "vectorizer = TfidfVectorizer(min_df=4, max_features = 10000)\n",
        "vz = vectorizer.fit_transform(clean_Text)\n",
        "tfidf = dict(zip(vectorizer.get_feature_names(), vectorizer.idf_))\n",
        "print(\"use: \" + str(tfidf[\"br\"]))\n",
        "print(\"like: \" + str(tfidf[\"like\"]))\n",
        "print(\"tast: \" + str(tfidf[\"tast\"]))\n",
        "print(\"flavor: \" + str(tfidf[\"flavor\"]))\n",
        "print(\"coffe: \" + str(tfidf[\"coffe\"]))"
      ],
      "metadata": {
        "colab": {
          "base_uri": "https://localhost:8080/"
        },
        "id": "VdYf4JhtrR_w",
        "outputId": "2d149880-5c0b-4a81-a501-3e5a4a0a0a36"
      },
      "execution_count": 14,
      "outputs": [
        {
          "output_type": "stream",
          "name": "stdout",
          "text": [
            "use: 2.3809350303871852\n",
            "like: 2.1090475929885644\n",
            "tast: 2.162271860581655\n",
            "flavor: 2.3645491215963665\n",
            "coffe: 3.2362010604235656\n"
          ]
        },
        {
          "output_type": "stream",
          "name": "stderr",
          "text": [
            "/usr/local/lib/python3.8/dist-packages/sklearn/utils/deprecation.py:87: FutureWarning: Function get_feature_names is deprecated; get_feature_names is deprecated in 1.0 and will be removed in 1.2. Please use get_feature_names_out instead.\n",
            "  warnings.warn(msg, category=FutureWarning)\n"
          ]
        }
      ]
    },
    {
      "cell_type": "markdown",
      "source": [
        "Sentiment Analysis"
      ],
      "metadata": {
        "id": "UwHBh-6arECA"
      }
    },
    {
      "cell_type": "code",
      "source": [
        "from nltk.sentiment.vader import SentimentIntensityAnalyzer\n",
        "Senti = SentimentIntensityAnalyzer()\n",
        "sample_review = clean_Text[:5]\n",
        "for sentence in sample_review:\n",
        "    sentence\n",
        "    ss = Senti.polarity_scores(sentence)\n",
        "    for k in sorted(ss):\n",
        "        print('{0}: {1}, '.format(k, ss[k]))\n",
        "    print(sentence) "
      ],
      "metadata": {
        "colab": {
          "base_uri": "https://localhost:8080/"
        },
        "id": "WeiH0yHyrSD8",
        "outputId": "c77ed99a-c147-422e-d408-2ffa0bd66f77"
      },
      "execution_count": 15,
      "outputs": [
        {
          "output_type": "stream",
          "name": "stdout",
          "text": [
            "compound: 0.9081, \n",
            "neg: 0.0, \n",
            "neu: 0.573, \n",
            "pos: 0.427, \n",
            "bought sever vital can dog food product found good qualiti product look like stew process meat smell better labrador finicki appreci product better\n",
            "compound: -0.1027, \n",
            "neg: 0.129, \n",
            "neu: 0.762, \n",
            "pos: 0.11, \n",
            "product arriv label jumbo salt peanut peanut actual small size unsalt sure error vendor intend repres product jumbo\n",
            "compound: 0.6249, \n",
            "neg: 0.141, \n",
            "neu: 0.636, \n",
            "pos: 0.223, \n",
            "confect around centuri light pillowi citrus gelatin nut case filbert cut tini squar liber coat powder sugar tini mouth heaven chewi flavor high recommend yummi treat familiar stori c lewi lion witch wardrob treat seduc edmund sell brother sister witch\n",
            "compound: 0.4404, \n",
            "neg: 0.0, \n",
            "neu: 0.854, \n",
            "pos: 0.146, \n",
            "look secret ingredi robitussin believ found got addit root beer extract order good made cherri soda flavor medicin\n",
            "compound: 0.9186, \n",
            "neg: 0.0, \n",
            "neu: 0.455, \n",
            "pos: 0.545, \n",
            "great taffi great price wide assort yummi taffi deliveri quick taffi lover deal\n"
          ]
        }
      ]
    },
    {
      "cell_type": "markdown",
      "source": [
        "K-Means"
      ],
      "metadata": {
        "id": "ksPZBkawrKuR"
      }
    },
    {
      "cell_type": "code",
      "source": [
        "from sklearn.cluster import MiniBatchKMeans\n",
        "\n",
        "num_clusters = 10\n",
        "kmeans_model = MiniBatchKMeans(n_clusters=num_clusters, init='k-means++', n_init=1, \n",
        "                         init_size=1000, batch_size=1000, verbose=False, max_iter=1000)\n",
        "kmeans = kmeans_model.fit(vz)\n",
        "kmeans_clusters = kmeans.predict(vz)\n",
        "kmeans_distances = kmeans.transform(vz)\n",
        "sorted_centroids = kmeans.cluster_centers_.argsort()[:, ::-1]\n",
        "terms = vectorizer.get_feature_names()\n",
        "for i in range(num_clusters):\n",
        "    print(\"Cluster %d:\" % i)\n",
        "    for j in sorted_centroids[i, :5]:\n",
        "        print(' %s' % terms[j])\n",
        "    print()"
      ],
      "metadata": {
        "colab": {
          "base_uri": "https://localhost:8080/"
        },
        "id": "GN148Y3UrSHe",
        "outputId": "5690c491-b248-412f-e5d5-2adb366e47dd"
      },
      "execution_count": 16,
      "outputs": [
        {
          "output_type": "stream",
          "name": "stdout",
          "text": [
            "Cluster 0:\n",
            " dog\n",
            " food\n",
            " treat\n",
            " love\n",
            " cat\n",
            "\n",
            "Cluster 1:\n",
            " tea\n",
            " green\n",
            " br\n",
            " ice\n",
            " tast\n",
            "\n",
            "Cluster 2:\n",
            " chip\n",
            " bag\n",
            " flavor\n",
            " potato\n",
            " salt\n",
            "\n",
            "Cluster 3:\n",
            " drink\n",
            " juic\n",
            " orang\n",
            " soda\n",
            " tast\n",
            "\n",
            "Cluster 4:\n",
            " chocol\n",
            " hot\n",
            " cocoa\n",
            " cup\n",
            " dark\n",
            "\n",
            "Cluster 5:\n",
            " br\n",
            " like\n",
            " product\n",
            " flavor\n",
            " tast\n",
            "\n",
            "Cluster 6:\n",
            " love\n",
            " order\n",
            " great\n",
            " snack\n",
            " flavor\n",
            "\n",
            "Cluster 7:\n",
            " product\n",
            " pancak\n",
            " mix\n",
            " great\n",
            " gluten\n",
            "\n",
            "Cluster 8:\n",
            " good\n",
            " like\n",
            " tast\n",
            " flavor\n",
            " one\n",
            "\n",
            "Cluster 9:\n",
            " coffe\n",
            " cup\n",
            " tast\n",
            " use\n",
            " br\n",
            "\n"
          ]
        },
        {
          "output_type": "stream",
          "name": "stderr",
          "text": [
            "/usr/local/lib/python3.8/dist-packages/sklearn/utils/deprecation.py:87: FutureWarning: Function get_feature_names is deprecated; get_feature_names is deprecated in 1.0 and will be removed in 1.2. Please use get_feature_names_out instead.\n",
            "  warnings.warn(msg, category=FutureWarning)\n"
          ]
        }
      ]
    },
    {
      "cell_type": "markdown",
      "source": [
        "LSTM"
      ],
      "metadata": {
        "id": "1LUsJGbwrYOv"
      }
    },
    {
      "cell_type": "code",
      "source": [
        "Text = data.Text\n",
        "Ratings = data.Score\n",
        "vectorizer = TfidfVectorizer(max_df=.8)\n",
        "vectorizer.fit(Text)\n",
        "def categorize(ratings):\n",
        "    cats = []\n",
        "    for rating in ratings:\n",
        "        v = [0,0,0,0,0]\n",
        "        v[rating-1] = 1\n",
        "        cats.append(v)\n",
        "    return np.array(cats)\n",
        "\n",
        "X = vectorizer.transform(Text).toarray()\n",
        "y = categorize(Ratings.values)\n",
        "\n",
        "X_train, X_test, y_train, y_test = train_test_split(X,y,test_size=.2)\n",
        "\n",
        "model = Sequential()\n",
        "model.add(Dense(128,input_dim=X_train.shape[1]))\n",
        "model.add(Dense(5,activation='softmax'))\n",
        "model.compile(loss='categorical_crossentropy',optimizer='rmsprop',metrics=['accuracy'])\n",
        "model.fit(X_train,y_train,epochs=10,batch_size=32,verbose=1)\n",
        "model.evaluate(X_test,y_test)[1]"
      ],
      "metadata": {
        "colab": {
          "base_uri": "https://localhost:8080/"
        },
        "id": "8wP94rDCr_Tq",
        "outputId": "7b00d462-da87-49b5-a1fc-f6485df7cea3"
      },
      "execution_count": 18,
      "outputs": [
        {
          "output_type": "stream",
          "name": "stdout",
          "text": [
            "Epoch 1/10\n",
            "205/205 [==============================] - 7s 31ms/step - loss: 1.0662 - accuracy: 0.6283\n",
            "Epoch 2/10\n",
            "205/205 [==============================] - 4s 18ms/step - loss: 0.7712 - accuracy: 0.7171\n",
            "Epoch 3/10\n",
            "205/205 [==============================] - 4s 18ms/step - loss: 0.6061 - accuracy: 0.7905\n",
            "Epoch 4/10\n",
            "205/205 [==============================] - 4s 18ms/step - loss: 0.4850 - accuracy: 0.8404\n",
            "Epoch 5/10\n",
            "205/205 [==============================] - 4s 18ms/step - loss: 0.3894 - accuracy: 0.8783\n",
            "Epoch 6/10\n",
            "205/205 [==============================] - 4s 18ms/step - loss: 0.3150 - accuracy: 0.9000\n",
            "Epoch 7/10\n",
            "205/205 [==============================] - 4s 18ms/step - loss: 0.2581 - accuracy: 0.9195\n",
            "Epoch 8/10\n",
            "205/205 [==============================] - 4s 18ms/step - loss: 0.2120 - accuracy: 0.9366\n",
            "Epoch 9/10\n",
            "205/205 [==============================] - 4s 18ms/step - loss: 0.1764 - accuracy: 0.9479\n",
            "Epoch 10/10\n",
            "205/205 [==============================] - 4s 18ms/step - loss: 0.1468 - accuracy: 0.9566\n",
            "52/52 [==============================] - 1s 6ms/step - loss: 1.2412 - accuracy: 0.6587\n"
          ]
        },
        {
          "output_type": "execute_result",
          "data": {
            "text/plain": [
              "0.658730149269104"
            ]
          },
          "metadata": {},
          "execution_count": 18
        }
      ]
    },
    {
      "cell_type": "code",
      "source": [],
      "metadata": {
        "id": "V3ogl1bAr_a8"
      },
      "execution_count": null,
      "outputs": []
    },
    {
      "cell_type": "code",
      "source": [],
      "metadata": {
        "id": "RKuVUnCer_eM"
      },
      "execution_count": null,
      "outputs": []
    }
  ]
}